{
  "nbformat": 4,
  "nbformat_minor": 0,
  "metadata": {
    "colab": {
      "provenance": [],
      "include_colab_link": true
    },
    "kernelspec": {
      "name": "python3",
      "display_name": "Python 3"
    },
    "language_info": {
      "name": "python"
    }
  },
  "cells": [
    {
      "cell_type": "markdown",
      "metadata": {
        "id": "view-in-github",
        "colab_type": "text"
      },
      "source": [
        "<a href=\"https://colab.research.google.com/github/iotpelican/hello-world/blob/master/dima-Untitled3-2.ipynb\" target=\"_parent\"><img src=\"https://colab.research.google.com/assets/colab-badge.svg\" alt=\"Open In Colab\"/></a>"
      ]
    },
    {
      "cell_type": "code",
      "execution_count": null,
      "metadata": {
        "id": "yZ4S1j2i2lJZ"
      },
      "outputs": [],
      "source": [
        "from openai import OpenAI\n",
        "from google.colab import userdata\n",
        "client = OpenAI(api_key=userdata.get('OPENAI_API_KEY'))"
      ]
    },
    {
      "cell_type": "code",
      "source": [
        "message = \"If a tree absorbs 48 pounds of CO2 a year, how much CO2 will all trees on the planet absorb in a year? Show step by step answer.\""
      ],
      "metadata": {
        "id": "7AMcOQuq2se8"
      },
      "execution_count": null,
      "outputs": []
    },
    {
      "cell_type": "code",
      "source": [
        "response_auto_cot = client.responses.create(\n",
        "    model='o4-mini',\n",
        "    input=message,\n",
        "    reasoning={\"effort\": \"high\"}\n",
        ")"
      ],
      "metadata": {
        "id": "HgknXKJJ22Ue"
      },
      "execution_count": null,
      "outputs": []
    },
    {
      "cell_type": "code",
      "source": [
        "print(response_auto_cot.output_text)"
      ],
      "metadata": {
        "colab": {
          "base_uri": "https://localhost:8080/"
        },
        "id": "-5-aYnj-3rug",
        "outputId": "54351fd8-a69e-484a-8189-6188eada1640"
      },
      "execution_count": null,
      "outputs": [
        {
          "output_type": "stream",
          "name": "stdout",
          "text": [
            "Here’s one way to estimate it, step by step:\n",
            "\n",
            "1. Adopt a commonly‐cited value for the number of trees on Earth:  \n",
            "   N ≃ 3 × 10^12 trees (about 3 trillion).\n",
            "\n",
            "2. Each tree absorbs about 48 lb of CO₂ per year.  \n",
            "   Total absorption (in pounds) = N × 48 lb/tree  \n",
            "   = (3 × 10^12) × 48  \n",
            "   = 1.44 × 10^14 lb CO₂ / yr\n",
            "\n",
            "3. Convert pounds to short tons (1 short ton = 2 000 lb):  \n",
            "   Total (short tons) = 1.44 × 10^14 lb ÷ 2 000 lb/ton  \n",
            "   = 7.2 × 10^10 tons CO₂ / yr  \n",
            "   = 72 billion short tons CO₂ / yr\n",
            "\n",
            "4. Convert short tons to metric tonnes (1 short ton ≃ 0.907 metric ton):  \n",
            "   Total ≃ 72 × 10^9 short tons × 0.907 t/short ton  \n",
            "   ≃ 6.53 × 10^10 metric tons CO₂ / yr  \n",
            "   = 65 billion tonnes CO₂ / yr\n",
            "\n",
            "5. Or, in gigatonnes (1 Gt = 10^9 tonnes):  \n",
            "   ≃ 65 Gt CO₂ per year.\n",
            "\n",
            "Bottom line:  \n",
            "All the trees on Earth (≈3 trillion of them), at 48 lb CO₂ each per year, absorb on the order of 1.4×10^14 lb or about 65 billion metric tons of CO₂ every year.\n"
          ]
        }
      ]
    },
    {
      "cell_type": "code",
      "source": [],
      "metadata": {
        "id": "7CRjwEi_3u_n"
      },
      "execution_count": null,
      "outputs": []
    }
  ]
}