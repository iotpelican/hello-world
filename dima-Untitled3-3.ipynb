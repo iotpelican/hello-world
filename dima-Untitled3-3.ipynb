{
  "nbformat": 4,
  "nbformat_minor": 0,
  "metadata": {
    "colab": {
      "provenance": [],
      "include_colab_link": true
    },
    "kernelspec": {
      "name": "python3",
      "display_name": "Python 3"
    },
    "language_info": {
      "name": "python"
    }
  },
  "cells": [
    {
      "cell_type": "markdown",
      "metadata": {
        "id": "view-in-github",
        "colab_type": "text"
      },
      "source": [
        "<a href=\"https://colab.research.google.com/github/iotpelican/hello-world/blob/master/dima-Untitled3-3.ipynb\" target=\"_parent\"><img src=\"https://colab.research.google.com/assets/colab-badge.svg\" alt=\"Open In Colab\"/></a>"
      ]
    },
    {
      "cell_type": "code",
      "execution_count": null,
      "metadata": {
        "id": "yZ4S1j2i2lJZ"
      },
      "outputs": [],
      "source": [
        "from openai import OpenAI\n",
        "from google.colab import userdata\n",
        "client = OpenAI(api_key=userdata.get('OPENAI_API_KEY'))"
      ]
    },
    {
      "cell_type": "code",
      "source": [
        "message = \"If a tree absorbs 48 pounds of CO2 a year, how much CO2 will all trees on the planet absorb in a year? Show step by step answer.\""
      ],
      "metadata": {
        "id": "7AMcOQuq2se8"
      },
      "execution_count": null,
      "outputs": []
    },
    {
      "cell_type": "code",
      "source": [
        "response_auto_cot = client.responses.create(\n",
        "    model='gpt-4o',\n",
        "    input=message\n",
        "    # reasoning={\"effort\": \"high\"}\n",
        ")"
      ],
      "metadata": {
        "id": "HgknXKJJ22Ue"
      },
      "execution_count": null,
      "outputs": []
    },
    {
      "cell_type": "code",
      "source": [
        "print(response_auto_cot.output_text)"
      ],
      "metadata": {
        "colab": {
          "base_uri": "https://localhost:8080/"
        },
        "id": "-5-aYnj-3rug",
        "outputId": "53c77aea-a7b0-40b0-f932-a028fdfe7e27"
      },
      "execution_count": null,
      "outputs": [
        {
          "output_type": "stream",
          "name": "stdout",
          "text": [
            "To calculate the total amount of CO2 absorbed by all the trees on the planet in a year, we need to know two things:\n",
            "\n",
            "1. The amount of CO2 absorbed by one tree per year, which is 48 pounds.\n",
            "2. The estimated number of trees on Earth.\n",
            "\n",
            "Step 1: Find the number of trees on Earth. \n",
            "While estimates vary, a frequently cited estimate is about 3 trillion trees.\n",
            "\n",
            "Step 2: Calculate the total CO2 absorbed by multiplying the amount absorbed by one tree by the total number of trees.\n",
            "\n",
            "\\[\n",
            "\\text{Total CO2 absorbed} = (\\text{CO2 absorbed by one tree}) \\times (\\text{Total number of trees})\n",
            "\\]\n",
            "\n",
            "Given:\n",
            "\n",
            "\\[\n",
            "\\text{CO2 absorbed by one tree} = 48 \\text{ pounds}\n",
            "\\]\n",
            "\n",
            "\\[\n",
            "\\text{Total number of trees} = 3 \\times 10^{12} \\text{ trees}\n",
            "\\]\n",
            "\n",
            "Now, calculate:\n",
            "\n",
            "\\[\n",
            "\\text{Total CO2 absorbed} = 48 \\text{ pounds/tree/year} \\times 3 \\times 10^{12} \\text{ trees}\n",
            "\\]\n",
            "\n",
            "\\[\n",
            "= 144 \\times 10^{12} \\text{ pounds/year}\n",
            "\\]\n",
            "\n",
            "\\[\n",
            "= 1.44 \\times 10^{14} \\text{ pounds/year}\n",
            "\\]\n",
            "\n",
            "Thus, all the trees on the planet absorb approximately \\(1.44 \\times 10^{14}\\) pounds of CO2 in a year.\n"
          ]
        }
      ]
    },
    {
      "cell_type": "code",
      "source": [],
      "metadata": {
        "id": "7CRjwEi_3u_n"
      },
      "execution_count": null,
      "outputs": []
    }
  ]
}