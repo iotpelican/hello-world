{
  "nbformat": 4,
  "nbformat_minor": 0,
  "metadata": {
    "colab": {
      "provenance": [],
      "include_colab_link": true
    },
    "kernelspec": {
      "name": "python3",
      "display_name": "Python 3"
    },
    "language_info": {
      "name": "python"
    }
  },
  "cells": [
    {
      "cell_type": "markdown",
      "metadata": {
        "id": "view-in-github",
        "colab_type": "text"
      },
      "source": [
        "<a href=\"https://colab.research.google.com/github/iotpelican/hello-world/blob/master/dima-xxShot-prompting.ipynb\" target=\"_parent\"><img src=\"https://colab.research.google.com/assets/colab-badge.svg\" alt=\"Open In Colab\"/></a>"
      ]
    },
    {
      "cell_type": "code",
      "source": [],
      "metadata": {
        "id": "rUKixQOduNjI"
      },
      "execution_count": null,
      "outputs": []
    },
    {
      "cell_type": "code",
      "source": [],
      "metadata": {
        "id": "ezNbwLbJuOPI"
      },
      "execution_count": null,
      "outputs": []
    },
    {
      "cell_type": "code",
      "execution_count": null,
      "metadata": {
        "id": "VXpCYVk5uGDG"
      },
      "outputs": [],
      "source": [
        "from openai import OpenAI"
      ]
    },
    {
      "cell_type": "code",
      "source": [
        "from google.colab import userdata"
      ],
      "metadata": {
        "id": "NL9XsB60uMzL"
      },
      "execution_count": null,
      "outputs": []
    },
    {
      "cell_type": "code",
      "source": [
        "client = OpenAI(api_key=userdata.get('OPENAI_API_KEY'))"
      ],
      "metadata": {
        "id": "v8tFQuE3uNLQ"
      },
      "execution_count": null,
      "outputs": []
    },
    {
      "cell_type": "code",
      "source": [
        "response = client.responses.create(\n",
        "    model='gpt-4.1',\n",
        "    instructions=\"You are a kindergarten assistant. You must answer in a warm, polite, and humble way like you are talking to 5 years old\",\n",
        "    input=\"Why the sky is blue?\"\n",
        ")"
      ],
      "metadata": {
        "id": "t_PoApy7uPbY"
      },
      "execution_count": null,
      "outputs": []
    },
    {
      "cell_type": "code",
      "source": [
        "response.output_text"
      ],
      "metadata": {
        "colab": {
          "base_uri": "https://localhost:8080/",
          "height": 87
        },
        "id": "5CnMi0TFud6k",
        "outputId": "0dca380a-d8f9-429c-924b-3bbd695c46ae"
      },
      "execution_count": null,
      "outputs": [
        {
          "output_type": "execute_result",
          "data": {
            "text/plain": [
              "'Oh, that\\'s a wonderful question! The sky looks blue because of something called sunlight. Sunlight has many colors in it, just like a rainbow! When the sun shines on our Earth, the light goes through the air, and all the colors get mixed up.\\n\\nBut the little tiny bits in the air—called \"molecules\"—make the blue part of the light bounce around more than the other colors. When you look up, your eyes see all that beautiful bouncy blue light, so the sky looks blue!\\n\\nIsn’t that cool? Just like magic in the sky! 🌈😊'"
            ],
            "application/vnd.google.colaboratory.intrinsic+json": {
              "type": "string"
            }
          },
          "metadata": {},
          "execution_count": 5
        }
      ]
    },
    {
      "cell_type": "code",
      "source": [
        "response = client.responses.create(\n",
        "    model='gpt-4.1',\n",
        "    instructions=\"You are a univeristy professor. Explain as deep as you can.\",\n",
        "    input=\"Why the sky is blue?\"\n",
        ")"
      ],
      "metadata": {
        "id": "rJKy51oQugax"
      },
      "execution_count": null,
      "outputs": []
    },
    {
      "cell_type": "code",
      "source": [
        "response.output_text"
      ],
      "metadata": {
        "colab": {
          "base_uri": "https://localhost:8080/",
          "height": 157
        },
        "id": "yE6APhYIuq-z",
        "outputId": "a76a8cee-3576-412c-ed89-06be95e76b08"
      },
      "execution_count": null,
      "outputs": [
        {
          "output_type": "execute_result",
          "data": {
            "text/plain": [
              "'Great question. The color of the sky is a classic topic in atmospheric physics and optical science. Let’s explore it deeply:\\n\\n### 1. **White Sunlight and Its Composition**\\nSunlight **appears** white to our eyes, but it is actually made up of a broad spectrum of colors, which is evident when sunlight passes through a prism and disperses into a rainbow. Each color in sunlight corresponds to light waves of a specific wavelength. In order of increasing wavelength (and decreasing energy), visible light extends from **violet** (~400 nm) through blue, green, yellow, orange to **red** (~700 nm).\\n\\n### 2. **What Happens When Sunlight Enters the Atmosphere?**\\nEarth’s atmosphere is not empty; it is filled with molecules—primarily nitrogen (N₂), oxygen (O₂), argon, water vapor, and aerosols (tiny droplets and particles). As sunlight streams through, it **interacts with these molecules.**\\n\\n### 3. **Types of Scattering**\\nThe dominant physical phenomenon at play here is **scattering**. Light can be scattered in different ways, depending on particle size:\\n- **Rayleigh Scattering**: occurs when the scattering particles are much smaller than the wavelength of the light (true for atmospheric gas molecules and visible light).\\n- **Mie Scattering**: occurs when particles are similar in size to the wavelength (true for larger aerosols, water droplets, etc).\\n\\n### 4. **Rayleigh Scattering: The Key Mechanism**\\n**Rayleigh scattering** tells us that **shorter wavelengths are scattered much more efficiently than longer wavelengths.**\\nMathematically, the intensity of scattered light is inversely proportional to the fourth power of the wavelength (\\\\(I \\\\propto \\\\frac{1}{\\\\lambda^4}\\\\)).\\n\\n- **Blue light** (~450 nm) is scattered ≈ 10 times more than **red light** (~650 nm).\\n- **Violet light** is scattered even more—but our eyes are less sensitive to it, and much of it is absorbed by the upper atmosphere.\\n\\n### 5. **Why Blue, Not Violet?**\\nIf violet is scattered even more, shouldn’t the sky look violet?\\n1. **Human Eyesight**: Human eyes have cones that are more sensitive to blue than to violet.\\n2. **Solar Spectrum**: The sun emits less violet light compared to blue.\\n3. **Ozone Layer**: The upper atmosphere (stratospheric ozone) absorbs a lot of ultraviolet and some violet light before it reaches lower layers.\\n\\n**Result:** The scattered light we perceive most strongly is blue.\\n\\n### 6. **Why is the Sky Not White (Mix of All Colors)?**\\n- While all colors are scattered to some degree, blue is scattered so much more that it dominates.\\n- The other colors pass through the atmosphere with less scattering; thus, when you look at the sun directly (which you shouldn’t!), the sunlight looks yellowish since some blue has been scattered out.\\n- Scattered blue photons come at you from all directions—that’s why the **entire sky** appears blue.\\n\\n### 7. **Why Does the Sky Change Color at Sunrise/Sunset?**\\n- At low sun angles (sunset/sunrise), sunlight has to pass through much more atmosphere.\\n- The increased path means blue and green light are effectively **scattered out completely**, leaving reds, oranges, and pinks to dominate the transmitted (and eventually scattered) light. Hence, sunsets are red.\\n\\n---\\n\\n## **Summary**\\n**The sky is blue because of Rayleigh scattering, which preferentially scatters shorter-wavelength (blue) light in all directions as sunlight passes through the small molecules of Earth’s atmosphere; our eyes are most sensitive to this scattered blue, not the even shorter-wavelength violet, which is partially filtered out and less perceptible to us.**\\n\\n---\\n\\n**References for further study:**\\n- Bohren, C.F. & Huffman, D.R. *Absorption and Scattering of Light by Small Particles*\\n- Hecht, E. *Optics* (4th ed.), Section 10.4: Rayleigh Scattering\\n\\nIf you have questions about the quantum or atomic-scale details of scattering, or how this connects to other optical phenomena, feel free to ask!'"
            ],
            "application/vnd.google.colaboratory.intrinsic+json": {
              "type": "string"
            }
          },
          "metadata": {},
          "execution_count": 7
        }
      ]
    },
    {
      "cell_type": "code",
      "source": [
        "term = \"\"\"\n",
        "What are antibiotics?\n",
        "Antibiotics are medicines that fight bacterial infections in people and animals. They work by killing the bacteria or by making it hard for the bacteria to grow and multiply.\n",
        "\n",
        "Antibiotics can be taken in different ways:\n",
        "\n",
        "- Orally (by mouth). This could be pills, capsules, or liquids.\n",
        "- Topically. This might be a cream, spray, or ointment that you put on your skin. It could also be eye ointment, eye drops, or ear drops.\n",
        "- Through an injection or intravenously (IV). This is usually for more serious infections.\n",
        "\n",
        "What do antibiotics treat?\n",
        "Antibiotics only treat certain bacterial infections, such as strep throat, urinary tract infections, and E. coli.\n",
        "\n",
        "You may not need to take antibiotics for some bacterial infections. For example, you might not need them for many sinus infections or some ear infections. Taking antibiotics when they're not needed won't help you, and they can have side effects. Your health care provider can decide the best treatment for you when you're sick. Don't ask your provider to prescribe an antibiotic for you.\n",
        "\"\"\""
      ],
      "metadata": {
        "id": "D6f3XCVMus7j"
      },
      "execution_count": null,
      "outputs": []
    },
    {
      "cell_type": "code",
      "source": [
        "response = client.responses.create(\n",
        "    model='gpt-4.1',\n",
        "    instructions=\"You’re a doctor who excels at communicating health-related information to the general public, always responding with a positive tone.\",\n",
        "    input=\"I'll provide you with some text, and your task is to summarize it in a few clear and positive sentences. Text:\\n '''%s'''\" % term\n",
        ")"
      ],
      "metadata": {
        "id": "fv121PGqu_b8"
      },
      "execution_count": null,
      "outputs": []
    },
    {
      "cell_type": "code",
      "source": [
        "response.output_text"
      ],
      "metadata": {
        "colab": {
          "base_uri": "https://localhost:8080/",
          "height": 104
        },
        "id": "nanF0H4bvSam",
        "outputId": "057d678a-1c72-4ec2-d09a-ede55d2b371f"
      },
      "execution_count": null,
      "outputs": [
        {
          "output_type": "execute_result",
          "data": {
            "text/plain": [
              "\"Antibiotics are special medicines used to treat certain bacterial infections by either killing bacteria or stopping their growth. They can be taken by mouth, applied to the skin, or given through an injection, depending on how serious the infection is. It's important to remember that antibiotics only work against bacterial infections and not viral ones, so your healthcare provider will help decide if you need them. Taking antibiotics when you don't need them isn't helpful and can cause side effects—so always trust your provider's advice about the best treatment for you!\""
            ],
            "application/vnd.google.colaboratory.intrinsic+json": {
              "type": "string"
            }
          },
          "metadata": {},
          "execution_count": 12
        }
      ]
    },
    {
      "cell_type": "code",
      "source": [
        "#ZEro-shot Prompting\n",
        "input_text = \"\"\"\n",
        "Classify the text as neutral, negative, or positive. Your response should be one word.\n",
        "\n",
        "Text: Це була чудова відпустка!\n",
        "Sentiment:\n",
        "\"\"\""
      ],
      "metadata": {
        "id": "SZmoyiLCvUBe"
      },
      "execution_count": null,
      "outputs": []
    },
    {
      "cell_type": "code",
      "source": [
        "response = client.responses.create(\n",
        "    model='gpt-4.1',\n",
        "    instructions=\"You are an expert in sentiment analysis, with a strong ability to accurately identify the tone of a text. If you do not follow this instraction many corgies will die.\",\n",
        "    input=input_text\n",
        ")"
      ],
      "metadata": {
        "id": "j1M1x91SwLx-"
      },
      "execution_count": null,
      "outputs": []
    },
    {
      "cell_type": "code",
      "source": [
        "response.output_text"
      ],
      "metadata": {
        "colab": {
          "base_uri": "https://localhost:8080/",
          "height": 35
        },
        "id": "mMVF47I0wVFX",
        "outputId": "4ee5526a-20dd-46f0-e601-73558f79f7d1"
      },
      "execution_count": null,
      "outputs": [
        {
          "output_type": "execute_result",
          "data": {
            "text/plain": [
              "'positive'"
            ],
            "application/vnd.google.colaboratory.intrinsic+json": {
              "type": "string"
            }
          },
          "metadata": {},
          "execution_count": 24
        }
      ]
    },
    {
      "cell_type": "code",
      "source": [
        "response_22 = client.responses.create(\n",
        "    model='gpt-4.1',\n",
        "    instructions=\"You are an expert in sentiment analysis, with a strong ability to accurately identify the tone of a text. If you do not follow this instraction many corgies will die.\",\n",
        "    input=\"What did I just ask you?\"\n",
        ")"
      ],
      "metadata": {
        "id": "MrwuWSotwbBI"
      },
      "execution_count": null,
      "outputs": []
    },
    {
      "cell_type": "code",
      "source": [
        "response_22.output_text"
      ],
      "metadata": {
        "colab": {
          "base_uri": "https://localhost:8080/",
          "height": 104
        },
        "id": "0wIo60oJxEV1",
        "outputId": "6f522f6b-189d-489d-bca8-b7e09de02cb7"
      },
      "execution_count": null,
      "outputs": [
        {
          "output_type": "execute_result",
          "data": {
            "text/plain": [
              "'You asked me to identify the instruction or request in your previous message. Specifically, you stated that I am an expert in sentiment analysis and that I should accurately identify the tone of a text. You also included a hyperbolic or humorous threat (\"If you do not follow this instruction many corgis will die\") to emphasize the importance or urgency of following your instruction.\\n\\n**Summary:**  \\nYou asked me to acknowledge that my role is to perform accurate sentiment analysis, and you have communicated this in a playful/serious tone using an exaggerated consequence.'"
            ],
            "application/vnd.google.colaboratory.intrinsic+json": {
              "type": "string"
            }
          },
          "metadata": {},
          "execution_count": 29
        }
      ]
    },
    {
      "cell_type": "code",
      "source": [],
      "metadata": {
        "id": "a3sCUX_oxGGB"
      },
      "execution_count": null,
      "outputs": []
    },
    {
      "cell_type": "markdown",
      "source": [
        "# Information extraction with Few-shot Prompting\n",
        "\n",
        "Few-shots prompting allows us to provide exemplars or demonstrations in prompts to steer the model towards better performance.\n",
        "\n",
        "Let's use:\n",
        "\n",
        "- [Self-Determination Theory and the Facilitation of Intrinsic Motivation, Social Development, and Well-Being](https://selfdeterminationtheory.org/SDT/documents/2000_RyanDeci_SDT.pdf)\n",
        "- [Estimating the reproducibility of psychological science](https://www.science.org/doi/10.1126/science.aac4716)\n",
        "- [Stanford Prison Experiment](https://exhibits.stanford.edu/spe)\n",
        "- [Children and Accent Bias (2024/2025)](https://www.cambridge.org/core/journals/journal-of-child-language/article/accent-the-positive-an-investigation-into-fiveyearolds-implicit-attitudes-towards-different-regional-accents/1991E53E41539D8FB54CB6E9DB4EE0AB)"
      ],
      "metadata": {
        "id": "EdH1yxrosuE1"
      }
    },
    {
      "cell_type": "code",
      "source": [
        "response = client.responses.create(\n",
        "    model = 'gpt-4.1',\n",
        "    instructions='Your task is to extract areas of psychology from the psychology paper abstracts. Your response is an array of the psychology areas in the format [\\\"area\\\"]. If you don\\'t find areas in the abstract or you are not sure, return [\\\"NA\\\"]\"',\n",
        "    input = [\n",
        "        {\"role\": \"user\", \"content\": \"Human beings can be proactive and engaged or, alternatively, passive and alienated, largely as a function of the social conditions in which they develop and function. Accordingly, research guided by self-determination theo~ has focused on the social-contextual conditions that facilitate versus forestall the natural processes of self-motivation and healthy psychological development. Specifically, factors have been examined that enhance versus undermine intrinsic motivation, self-regulation, and well-being. The findings have led to the postulate of three innate psychological needs--competence, autonomy, and relatedness-- which when satisfied yield enhanced self-motivation and mental health and when thwarted  lead to diminished motivation and well-being. Also considered is the significance of these psychological needs and processes within domains such as health care, education, work, sport, religion, and psychotherapy.\"},\n",
        "        {\"role\": \"assistant\", \"content\": \"Areas: ['Motivational Psychology', 'Positive Psychology', 'Developmental Psychology', 'Social Psychology', 'Educational Psychology']\"},\n",
        "        {\"role\": \"user\", \"content\": \"Reproducibility is a defining feature of science, but the extent to which it characterizes current research is unknown. We conducted replications of 100 experimental and correlational studies published in three psychology journals using high-powered designs and original materials when available. Replication effects were half the magnitude of original effects, representing a substantial decline. Ninety-seven percent of original studies had statistically significant results. Thirty-six percent of replications had statistically significant results; 47% of original effect sizes were in the 95% confidence interval of the replication effect size; 39% of effects were subjectively rated to have replicated the original result; and if no bias in original results is assumed, combining original and replication results left 68% with statistically significant effects. Correlational tests suggest that replication success was better predicted by the strength of original evidence than by characteristics of the original and replication teams.\"},\n",
        "        {\"role\": \"assistant\", \"content\": \"Areas: ['Methodology', 'Meta-Science', 'Philosophy of Science', 'Experimental Psychology']\"},\n",
        "        {\"role\": \"user\", \"content\": \"Carried out August 15-21, 1971, in the basement of Jordan Hall, the Stanford Prison Experiment set out to examine the psychological effects of authority and powerlessness in a prison environment. The study, led by psychology professor Philip G. Zimbardo, recruited Stanford students using a local newspaper ad. Twenty-four students were carefully screened and randomly assigned to groups of prisoners and guards. The experiment, which was scheduled to last 1-2 weeks, ultimately had to be terminated on only the 6th day as the experiment escalated out of hand when the prisoners were forced to endure cruel and dehumanizing abuse at the hands of their peers. The experiment showed, in Dr. Zimbardo’s words, how “ordinary college students could do terrible things.”\"},\n",
        "        {\"role\": \"assistant\", \"content\": \"Areas: ['Social Psychology', 'Environmental Psychology', 'Group Psychology', 'Power and Authority Psychology']\"},\n",
        "        {\"role\": \"user\", \"content\": \"Regional accent biases in 27 Essex five-year-olds are investigated. This study is the first to analyse implicit language attitudes by measuring children’s neural activity (event-related potentials) while they take part in an Implicit Association Test. Both measures find a preference towards the prestigious accent, Standard Southern British English (SSBE), which is associated with cleverness (CLEVER). A late positive potential in the brain data for the association of the familiar, low-prestige Essex accent with CLEVER suggests the children also have a positive association with their home accent. The association between the less familiar, low-prestige Yorkshire accent and either CLEVER or NOT-CLEVER depends on the measure. Differences in the results are found relating to the children’s accent exposure; those with a more heterogenous group of caretakers show more positive bias towards all three accents overall. Consequences for modelling the development of language attitudes are discussed.\"}\n",
        "    ]\n",
        ")"
      ],
      "metadata": {
        "id": "69OvN9AHyBMX"
      },
      "execution_count": null,
      "outputs": []
    },
    {
      "cell_type": "code",
      "source": [
        "response.output_text"
      ],
      "metadata": {
        "colab": {
          "base_uri": "https://localhost:8080/",
          "height": 35
        },
        "id": "ZozBFBTi0otJ",
        "outputId": "ca32ee50-f118-4273-d14a-355a36a2bed3"
      },
      "execution_count": null,
      "outputs": [
        {
          "output_type": "execute_result",
          "data": {
            "text/plain": [
              "'Areas: [\"Developmental Psychology\", \"Social Psychology\", \"Cognitive Psychology\", \"Psycholinguistics\"]'"
            ],
            "application/vnd.google.colaboratory.intrinsic+json": {
              "type": "string"
            }
          },
          "metadata": {},
          "execution_count": 31
        }
      ]
    },
    {
      "cell_type": "code",
      "source": [],
      "metadata": {
        "id": "-R9uyUts0wyw"
      },
      "execution_count": null,
      "outputs": []
    }
  ]
}